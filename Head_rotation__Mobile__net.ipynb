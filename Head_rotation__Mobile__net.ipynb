{
  "nbformat": 4,
  "nbformat_minor": 0,
  "metadata": {
    "colab": {
      "name": "Head_rotation_ Mobile _net.ipynb",
      "provenance": [],
      "collapsed_sections": [],
      "include_colab_link": true
    },
    "kernelspec": {
      "name": "python3",
      "display_name": "Python 3"
    },
    "accelerator": "GPU"
  },
  "cells": [
    {
      "cell_type": "markdown",
      "metadata": {
        "id": "view-in-github",
        "colab_type": "text"
      },
      "source": [
        "<a href=\"https://colab.research.google.com/github/poziryna84/Neural-Network-Models/blob/master/Head_rotation__Mobile__net.ipynb\" target=\"_parent\"><img src=\"https://colab.research.google.com/assets/colab-badge.svg\" alt=\"Open In Colab\"/></a>"
      ]
    },
    {
      "cell_type": "code",
      "metadata": {
        "id": "URa54An_-Mgl",
        "colab_type": "code",
        "colab": {
          "base_uri": "https://localhost:8080/",
          "height": 122
        },
        "outputId": "b892881f-28d7-4bf6-f22e-f250f54cd6bf"
      },
      "source": [
        "from google.colab import drive\n",
        "drive.mount('/content/drive')"
      ],
      "execution_count": 2,
      "outputs": [
        {
          "output_type": "stream",
          "text": [
            "Go to this URL in a browser: https://accounts.google.com/o/oauth2/auth?client_id=947318989803-6bn6qk8qdgf4n4g3pfee6491hc0brc4i.apps.googleusercontent.com&redirect_uri=urn%3Aietf%3Awg%3Aoauth%3A2.0%3Aoob&scope=email%20https%3A%2F%2Fwww.googleapis.com%2Fauth%2Fdocs.test%20https%3A%2F%2Fwww.googleapis.com%2Fauth%2Fdrive%20https%3A%2F%2Fwww.googleapis.com%2Fauth%2Fdrive.photos.readonly%20https%3A%2F%2Fwww.googleapis.com%2Fauth%2Fpeopleapi.readonly&response_type=code\n",
            "\n",
            "Enter your authorization code:\n",
            "··········\n",
            "Mounted at /content/drive\n"
          ],
          "name": "stdout"
        }
      ]
    },
    {
      "cell_type": "markdown",
      "metadata": {
        "id": "Q7Vq5G1Z-pWl",
        "colab_type": "text"
      },
      "source": [
        "In this tutorial we are going to:\n",
        "\n",
        "- having as input photoes of different head positions (its coordinates and angles) create a data architecture appropriate for mobile net neural net model;\n",
        "- fit the model."
      ]
    },
    {
      "cell_type": "code",
      "metadata": {
        "id": "RPOOCnmDA5O5",
        "colab_type": "code",
        "colab": {}
      },
      "source": [
        "import os\n",
        "import pandas as pd\n",
        "import numpy as np\n",
        "import glob\n",
        "import re\n",
        "from PIL import Image, ImageOps"
      ],
      "execution_count": 0,
      "outputs": []
    },
    {
      "cell_type": "code",
      "metadata": {
        "id": "4bH0e_d-_xb2",
        "colab_type": "code",
        "colab": {}
      },
      "source": [
        ""
      ],
      "execution_count": 0,
      "outputs": []
    },
    {
      "cell_type": "code",
      "metadata": {
        "id": "WE-vxHqtCke3",
        "colab_type": "code",
        "colab": {}
      },
      "source": [
        "path = '/content/drive/My Drive/head_rotation'"
      ],
      "execution_count": 0,
      "outputs": []
    },
    {
      "cell_type": "code",
      "metadata": {
        "id": "S4TUy0CiGhiC",
        "colab_type": "code",
        "colab": {}
      },
      "source": [
        "def img_df(image_path, shape):\n",
        "    image = Image.open(image_path)\n",
        "    image_resized = image.resize(shape, Image.ANTIALIAS)\n",
        "    img_array = np.asarray(image_resized)\n",
        "    return img_array"
      ],
      "execution_count": 0,
      "outputs": []
    },
    {
      "cell_type": "markdown",
      "metadata": {
        "id": "5FSLa8VwqySq",
        "colab_type": "text"
      },
      "source": [
        ""
      ]
    },
    {
      "cell_type": "code",
      "metadata": {
        "id": "c3dN4vZplpIO",
        "colab_type": "code",
        "colab": {}
      },
      "source": [
        "# Formar X e Y recorriendo las carpetas y ficheros\n",
        "df = pd.DataFrame()\n",
        "regex = r'(\\W\\d+)(\\W\\d+)'\n",
        "jpg_list = []\n",
        "\n",
        "for txt_path in glob.glob('/content/drive/My Drive/head_rotation/Person*/*.txt'):\n",
        "    jpg_path = txt_path[:-3] + \"jpg\"\n",
        "    jpg_list.append(jpg_path)\n",
        "    df = df.append(pd.read_csv(txt_path, header=None).T)\n",
        "    \n"
      ],
      "execution_count": 0,
      "outputs": []
    },
    {
      "cell_type": "code",
      "metadata": {
        "id": "PvedQdO0mNk8",
        "colab_type": "code",
        "colab": {}
      },
      "source": [
        "df = df.drop(1, axis=1)\n"
      ],
      "execution_count": 0,
      "outputs": []
    },
    {
      "cell_type": "code",
      "metadata": {
        "id": "kgOnKPOamS2h",
        "colab_type": "code",
        "colab": {}
      },
      "source": [
        "df[\"T\"] = df[0].apply(lambda cell: int(re.findall(regex, cell)[0][0]))\n",
        "df[\"P\"] = df[0].apply(lambda cell: int(re.findall(regex, cell)[0][1]))\n"
      ],
      "execution_count": 0,
      "outputs": []
    },
    {
      "cell_type": "code",
      "metadata": {
        "id": "r-WGrRAMmec3",
        "colab_type": "code",
        "colab": {}
      },
      "source": [
        "df[\"Image_path\"] = jpg_list"
      ],
      "execution_count": 0,
      "outputs": []
    },
    {
      "cell_type": "code",
      "metadata": {
        "id": "T0riXKa6pDwI",
        "colab_type": "code",
        "colab": {}
      },
      "source": [
        "df = df[~df.Image_path.apply(lambda x: '(' in x)]"
      ],
      "execution_count": 0,
      "outputs": []
    },
    {
      "cell_type": "code",
      "metadata": {
        "id": "Kaq05OyqpLTx",
        "colab_type": "code",
        "colab": {}
      },
      "source": [
        "df = df[~df.Image_path.apply(lambda x: ')' in x)]"
      ],
      "execution_count": 0,
      "outputs": []
    },
    {
      "cell_type": "code",
      "metadata": {
        "id": "z3wBuCBKmnQS",
        "colab_type": "code",
        "colab": {}
      },
      "source": [
        "df[\"Image\"] = df['Image_path'].apply(lambda img: img_df(img, (224, 224)))"
      ],
      "execution_count": 0,
      "outputs": []
    },
    {
      "cell_type": "code",
      "metadata": {
        "id": "YfP1UvwN6W58",
        "colab_type": "code",
        "colab": {
          "base_uri": "https://localhost:8080/",
          "height": 68
        },
        "outputId": "c4f820b0-22e0-4a2c-ca58-6f8f035a688a"
      },
      "source": [
        "df.Image.head()[:2]"
      ],
      "execution_count": 25,
      "outputs": [
        {
          "output_type": "execute_result",
          "data": {
            "text/plain": [
              "0    [[[22, 22, 22], [14, 14, 14], [70, 70, 70], [2...\n",
              "0    [[[22, 22, 22], [15, 15, 15], [66, 66, 66], [1...\n",
              "Name: Image, dtype: object"
            ]
          },
          "metadata": {
            "tags": []
          },
          "execution_count": 25
        }
      ]
    },
    {
      "cell_type": "code",
      "metadata": {
        "id": "ARAYSHwlmvkd",
        "colab_type": "code",
        "colab": {}
      },
      "source": [
        "df = df.drop([0, \"Image_path\"], axis=1)\n",
        "df.columns = [\"X\", \"Y\", \"H\", \"W\", \"T\", \"P\", \"Image\"]\n",
        "df.X = df.X.astype(int)\n",
        "df.Y = df.Y.astype(int)\n",
        "df.H = df.H.astype(int)\n",
        "df.W = df.W.astype(int)\n",
        "df = df.reset_index().drop(\"index\", axis=1)"
      ],
      "execution_count": 0,
      "outputs": []
    },
    {
      "cell_type": "code",
      "metadata": {
        "id": "TNXFTWOEtm6k",
        "colab_type": "code",
        "colab": {
          "base_uri": "https://localhost:8080/",
          "height": 204
        },
        "outputId": "9751249f-a1da-467a-9c5b-9bd226cb212d"
      },
      "source": [
        "df.head()"
      ],
      "execution_count": 27,
      "outputs": [
        {
          "output_type": "execute_result",
          "data": {
            "text/html": [
              "<div>\n",
              "<style scoped>\n",
              "    .dataframe tbody tr th:only-of-type {\n",
              "        vertical-align: middle;\n",
              "    }\n",
              "\n",
              "    .dataframe tbody tr th {\n",
              "        vertical-align: top;\n",
              "    }\n",
              "\n",
              "    .dataframe thead th {\n",
              "        text-align: right;\n",
              "    }\n",
              "</style>\n",
              "<table border=\"1\" class=\"dataframe\">\n",
              "  <thead>\n",
              "    <tr style=\"text-align: right;\">\n",
              "      <th></th>\n",
              "      <th>X</th>\n",
              "      <th>Y</th>\n",
              "      <th>H</th>\n",
              "      <th>W</th>\n",
              "      <th>T</th>\n",
              "      <th>P</th>\n",
              "      <th>Image</th>\n",
              "    </tr>\n",
              "  </thead>\n",
              "  <tbody>\n",
              "    <tr>\n",
              "      <th>0</th>\n",
              "      <td>206</td>\n",
              "      <td>235</td>\n",
              "      <td>108</td>\n",
              "      <td>73</td>\n",
              "      <td>-90</td>\n",
              "      <td>0</td>\n",
              "      <td>[[[22, 22, 22], [14, 14, 14], [70, 70, 70], [2...</td>\n",
              "    </tr>\n",
              "    <tr>\n",
              "      <th>1</th>\n",
              "      <td>311</td>\n",
              "      <td>192</td>\n",
              "      <td>72</td>\n",
              "      <td>97</td>\n",
              "      <td>-60</td>\n",
              "      <td>-90</td>\n",
              "      <td>[[[22, 22, 22], [15, 15, 15], [66, 66, 66], [1...</td>\n",
              "    </tr>\n",
              "    <tr>\n",
              "      <th>2</th>\n",
              "      <td>294</td>\n",
              "      <td>195</td>\n",
              "      <td>93</td>\n",
              "      <td>101</td>\n",
              "      <td>-60</td>\n",
              "      <td>-60</td>\n",
              "      <td>[[[23, 23, 23], [14, 14, 14], [63, 63, 63], [1...</td>\n",
              "    </tr>\n",
              "    <tr>\n",
              "      <th>3</th>\n",
              "      <td>305</td>\n",
              "      <td>197</td>\n",
              "      <td>82</td>\n",
              "      <td>102</td>\n",
              "      <td>-60</td>\n",
              "      <td>-75</td>\n",
              "      <td>[[[20, 20, 20], [17, 17, 17], [61, 61, 61], [1...</td>\n",
              "    </tr>\n",
              "    <tr>\n",
              "      <th>4</th>\n",
              "      <td>275</td>\n",
              "      <td>196</td>\n",
              "      <td>100</td>\n",
              "      <td>101</td>\n",
              "      <td>-60</td>\n",
              "      <td>-45</td>\n",
              "      <td>[[[21, 21, 21], [14, 14, 14], [64, 64, 64], [1...</td>\n",
              "    </tr>\n",
              "  </tbody>\n",
              "</table>\n",
              "</div>"
            ],
            "text/plain": [
              "     X    Y    H  ...   T   P                                              Image\n",
              "0  206  235  108  ... -90   0  [[[22, 22, 22], [14, 14, 14], [70, 70, 70], [2...\n",
              "1  311  192   72  ... -60 -90  [[[22, 22, 22], [15, 15, 15], [66, 66, 66], [1...\n",
              "2  294  195   93  ... -60 -60  [[[23, 23, 23], [14, 14, 14], [63, 63, 63], [1...\n",
              "3  305  197   82  ... -60 -75  [[[20, 20, 20], [17, 17, 17], [61, 61, 61], [1...\n",
              "4  275  196  100  ... -60 -45  [[[21, 21, 21], [14, 14, 14], [64, 64, 64], [1...\n",
              "\n",
              "[5 rows x 7 columns]"
            ]
          },
          "metadata": {
            "tags": []
          },
          "execution_count": 27
        }
      ]
    },
    {
      "cell_type": "code",
      "metadata": {
        "id": "s2RM0aGGtqiO",
        "colab_type": "code",
        "colab": {}
      },
      "source": [
        "# Extraer X e Y del df y normalizar\n",
        "X = np.asarray(list(df[\"Image\"]/255.))\n",
        "Y = np.array(df[[\"X\", \"Y\", \"H\", \"W\", \"T\", \"P\"]])/100."
      ],
      "execution_count": 0,
      "outputs": []
    },
    {
      "cell_type": "code",
      "metadata": {
        "id": "hGAs2PCDxh85",
        "colab_type": "code",
        "colab": {
          "base_uri": "https://localhost:8080/",
          "height": 34
        },
        "outputId": "0d78dd65-80d6-44c9-e104-64c5fe5c47d5"
      },
      "source": [
        "X.shape"
      ],
      "execution_count": 29,
      "outputs": [
        {
          "output_type": "execute_result",
          "data": {
            "text/plain": [
              "(2790, 224, 224, 3)"
            ]
          },
          "metadata": {
            "tags": []
          },
          "execution_count": 29
        }
      ]
    },
    {
      "cell_type": "code",
      "metadata": {
        "id": "xEVWzy7exmet",
        "colab_type": "code",
        "colab": {
          "base_uri": "https://localhost:8080/",
          "height": 34
        },
        "outputId": "4b967980-3fa0-4bad-9e2a-cf922619eebe"
      },
      "source": [
        "# Crear red neuronal\n",
        "from keras.layers import Dense,GlobalAveragePooling2D\n",
        "from keras.applications import MobileNet\n",
        "from keras.preprocessing import image\n",
        "from keras.models import Model"
      ],
      "execution_count": 30,
      "outputs": [
        {
          "output_type": "stream",
          "text": [
            "Using TensorFlow backend.\n"
          ],
          "name": "stderr"
        }
      ]
    },
    {
      "cell_type": "code",
      "metadata": {
        "id": "MvcDL_UOxobP",
        "colab_type": "code",
        "colab": {
          "base_uri": "https://localhost:8080/",
          "height": 309
        },
        "outputId": "3e2866f5-4ab7-42bf-f551-4c72cb7510cf"
      },
      "source": [
        "n_classes = 6\n",
        "base_model = MobileNet(weights='imagenet',include_top=False) #imports the mobilenet model and discards the last 1000 neuron layer.\n",
        "\n",
        "x = base_model.output\n",
        "x = GlobalAveragePooling2D()(x)\n",
        "x = Dense(1024,activation='relu')(x) #we add dense layers so that the model can learn more complex functions and classify for better results.\n",
        "x = Dense(1024,activation='relu')(x) #dense layer 2\n",
        "x = Dense(512,activation='relu')(x) #dense layer 3\n",
        "\n",
        "preds = Dense(n_classes,activation='linear')(x)\n",
        "\n",
        "model=Model(inputs=base_model.input,outputs=preds)\n"
      ],
      "execution_count": 31,
      "outputs": [
        {
          "output_type": "stream",
          "text": [
            "WARNING:tensorflow:From /usr/local/lib/python3.6/dist-packages/keras/backend/tensorflow_backend.py:66: The name tf.get_default_graph is deprecated. Please use tf.compat.v1.get_default_graph instead.\n",
            "\n",
            "WARNING:tensorflow:From /usr/local/lib/python3.6/dist-packages/keras/backend/tensorflow_backend.py:541: The name tf.placeholder is deprecated. Please use tf.compat.v1.placeholder instead.\n",
            "\n",
            "WARNING:tensorflow:From /usr/local/lib/python3.6/dist-packages/keras/backend/tensorflow_backend.py:4432: The name tf.random_uniform is deprecated. Please use tf.random.uniform instead.\n",
            "\n",
            "WARNING:tensorflow:From /usr/local/lib/python3.6/dist-packages/keras/backend/tensorflow_backend.py:190: The name tf.get_default_session is deprecated. Please use tf.compat.v1.get_default_session instead.\n",
            "\n",
            "WARNING:tensorflow:From /usr/local/lib/python3.6/dist-packages/keras/backend/tensorflow_backend.py:197: The name tf.ConfigProto is deprecated. Please use tf.compat.v1.ConfigProto instead.\n",
            "\n"
          ],
          "name": "stdout"
        },
        {
          "output_type": "stream",
          "text": [
            "/usr/local/lib/python3.6/dist-packages/keras_applications/mobilenet.py:207: UserWarning: `input_shape` is undefined or non-square, or `rows` is not in [128, 160, 192, 224]. Weights for input shape (224, 224) will be loaded as the default.\n",
            "  warnings.warn('`input_shape` is undefined or non-square, '\n"
          ],
          "name": "stderr"
        },
        {
          "output_type": "stream",
          "text": [
            "WARNING:tensorflow:From /usr/local/lib/python3.6/dist-packages/keras/backend/tensorflow_backend.py:2041: The name tf.nn.fused_batch_norm is deprecated. Please use tf.compat.v1.nn.fused_batch_norm instead.\n",
            "\n",
            "Downloading data from https://github.com/fchollet/deep-learning-models/releases/download/v0.6/mobilenet_1_0_224_tf_no_top.h5\n",
            "17227776/17225924 [==============================] - 3s 0us/step\n"
          ],
          "name": "stdout"
        }
      ]
    },
    {
      "cell_type": "code",
      "metadata": {
        "id": "i_P8jemcx0l5",
        "colab_type": "code",
        "colab": {}
      },
      "source": [
        "# Entrenar red neuronal\n",
        "from sklearn.model_selection import train_test_split\n",
        "X_train, X_test, Y_train, Y_test = train_test_split(X, Y, test_size=0.33)"
      ],
      "execution_count": 0,
      "outputs": []
    },
    {
      "cell_type": "code",
      "metadata": {
        "id": "FQJvfxqDx53r",
        "colab_type": "code",
        "colab": {
          "base_uri": "https://localhost:8080/",
          "height": 71
        },
        "outputId": "7053cf81-d729-4339-cc28-fd11624f13cc"
      },
      "source": [
        "model.compile(optimizer = 'Adam',\n",
        "              loss ='mean_squared_error',\n",
        "              metrics = ['cosine_proximity'])"
      ],
      "execution_count": 33,
      "outputs": [
        {
          "output_type": "stream",
          "text": [
            "WARNING:tensorflow:From /usr/local/lib/python3.6/dist-packages/keras/optimizers.py:793: The name tf.train.Optimizer is deprecated. Please use tf.compat.v1.train.Optimizer instead.\n",
            "\n"
          ],
          "name": "stdout"
        }
      ]
    },
    {
      "cell_type": "code",
      "metadata": {
        "id": "lGqIwQ4px-6y",
        "colab_type": "code",
        "colab": {
          "base_uri": "https://localhost:8080/",
          "height": 561
        },
        "outputId": "e0757b40-4948-4b2d-d72b-a253a6081e43"
      },
      "source": [
        "model.fit(X_train, Y_train, validation_data=[X_test, Y_test], epochs=15, verbose=2)"
      ],
      "execution_count": 34,
      "outputs": [
        {
          "output_type": "stream",
          "text": [
            "Train on 1869 samples, validate on 921 samples\n",
            "Epoch 1/15\n",
            " - 32s - loss: 0.3911 - cosine_proximity: -9.4518e-01 - val_loss: 1.2096 - val_cosine_proximity: -9.8498e-01\n",
            "Epoch 2/15\n",
            " - 24s - loss: 0.0188 - cosine_proximity: -9.9477e-01 - val_loss: 0.1386 - val_cosine_proximity: -9.9502e-01\n",
            "Epoch 3/15\n",
            " - 25s - loss: 0.0115 - cosine_proximity: -9.9645e-01 - val_loss: 0.0532 - val_cosine_proximity: -9.9678e-01\n",
            "Epoch 4/15\n",
            " - 25s - loss: 0.0084 - cosine_proximity: -9.9738e-01 - val_loss: 0.0086 - val_cosine_proximity: -9.9761e-01\n",
            "Epoch 5/15\n",
            " - 25s - loss: 0.0080 - cosine_proximity: -9.9736e-01 - val_loss: 0.0105 - val_cosine_proximity: -9.9820e-01\n",
            "Epoch 6/15\n",
            " - 25s - loss: 0.0055 - cosine_proximity: -9.9833e-01 - val_loss: 0.0142 - val_cosine_proximity: -9.9606e-01\n",
            "Epoch 7/15\n",
            " - 25s - loss: 0.0061 - cosine_proximity: -9.9817e-01 - val_loss: 0.0082 - val_cosine_proximity: -9.9816e-01\n",
            "Epoch 8/15\n",
            " - 25s - loss: 0.0071 - cosine_proximity: -9.9770e-01 - val_loss: 0.0146 - val_cosine_proximity: -9.9860e-01\n",
            "Epoch 9/15\n",
            " - 25s - loss: 0.0060 - cosine_proximity: -9.9857e-01 - val_loss: 0.0081 - val_cosine_proximity: -9.9844e-01\n",
            "Epoch 10/15\n",
            " - 25s - loss: 0.0041 - cosine_proximity: -9.9879e-01 - val_loss: 0.0067 - val_cosine_proximity: -9.9789e-01\n",
            "Epoch 11/15\n",
            " - 25s - loss: 0.0061 - cosine_proximity: -9.9847e-01 - val_loss: 0.0085 - val_cosine_proximity: -9.9850e-01\n",
            "Epoch 12/15\n",
            " - 25s - loss: 0.0039 - cosine_proximity: -9.9875e-01 - val_loss: 0.0039 - val_cosine_proximity: -9.9886e-01\n",
            "Epoch 13/15\n",
            " - 25s - loss: 0.0036 - cosine_proximity: -9.9886e-01 - val_loss: 0.0096 - val_cosine_proximity: -9.9889e-01\n",
            "Epoch 14/15\n",
            " - 25s - loss: 0.0031 - cosine_proximity: -9.9904e-01 - val_loss: 0.0053 - val_cosine_proximity: -9.9876e-01\n",
            "Epoch 15/15\n",
            " - 25s - loss: 0.0027 - cosine_proximity: -9.9912e-01 - val_loss: 0.0049 - val_cosine_proximity: -9.9882e-01\n"
          ],
          "name": "stdout"
        },
        {
          "output_type": "execute_result",
          "data": {
            "text/plain": [
              "<keras.callbacks.History at 0x7f7e1b8a85c0>"
            ]
          },
          "metadata": {
            "tags": []
          },
          "execution_count": 34
        }
      ]
    },
    {
      "cell_type": "code",
      "metadata": {
        "id": "y_krKRYmzXnf",
        "colab_type": "code",
        "colab": {}
      },
      "source": [
        ""
      ],
      "execution_count": 0,
      "outputs": []
    }
  ]
}